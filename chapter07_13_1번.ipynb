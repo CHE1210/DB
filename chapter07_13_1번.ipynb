{
  "nbformat": 4,
  "nbformat_minor": 0,
  "metadata": {
    "colab": {
      "provenance": []
    },
    "kernelspec": {
      "name": "python3",
      "display_name": "Python 3"
    },
    "language_info": {
      "name": "python"
    }
  },
  "cells": [
    {
      "cell_type": "code",
      "execution_count": null,
      "metadata": {
        "id": "NgEXO8sVa7Km"
      },
      "outputs": [],
      "source": [
        "CREATE USER 'fishbread_user'@'localhost' IDENTIFIED BY 'your_secure_password';\n",
        "\n",
        "GRANT ALL PRIVILEGES ON *.* TO 'fishbread_user'@'localhost';\n",
        "\n",
        "FLUSH PRIVILEGES;\n",
        "\n",
        "SHOW GRANTS FOR 'fishbread_user'@'localhost';\n"
      ]
    }
  ]
}